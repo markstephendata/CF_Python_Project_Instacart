{
 "cells": [
  {
   "cell_type": "code",
   "execution_count": 33,
   "id": "043f841a",
   "metadata": {},
   "outputs": [],
   "source": [
    "# Import Libraries\n",
    "import pandas as pd\n",
    "import numpy as np\n",
    "import os"
   ]
  },
  {
   "cell_type": "code",
   "execution_count": 34,
   "id": "993221e6",
   "metadata": {},
   "outputs": [],
   "source": [
    "# define path\n",
    "path = r'/Users/amykillin/Desktop/Mark Career Foundry Data/Data Immersion/Topic 4/Instacart Basket Analysis'"
   ]
  },
  {
   "cell_type": "code",
   "execution_count": 35,
   "id": "0e4db47d",
   "metadata": {},
   "outputs": [],
   "source": [
    "# import dataframe\n",
    "df = pd.read_pickle(os.path.join(path, '2 Data', 'Prepared Data', 'complete_orders_products_combined.pkl'))"
   ]
  },
  {
   "cell_type": "code",
   "execution_count": 37,
   "id": "aff05713",
   "metadata": {},
   "outputs": [],
   "source": [
    "# limit rows to first 1 million\n",
    "df = df[:1000000]"
   ]
  },
  {
   "cell_type": "code",
   "execution_count": 38,
   "id": "9da0fd2d",
   "metadata": {},
   "outputs": [
    {
     "data": {
      "text/plain": [
       "(1000000, 17)"
      ]
     },
     "execution_count": 38,
     "metadata": {},
     "output_type": "execute_result"
    }
   ],
   "source": [
    "# create a subset\n",
    "\n",
    "df.shape"
   ]
  },
  {
   "cell_type": "code",
   "execution_count": 39,
   "id": "6b6dadab",
   "metadata": {},
   "outputs": [
    {
     "data": {
      "text/html": [
       "<div>\n",
       "<style scoped>\n",
       "    .dataframe tbody tr th:only-of-type {\n",
       "        vertical-align: middle;\n",
       "    }\n",
       "\n",
       "    .dataframe tbody tr th {\n",
       "        vertical-align: top;\n",
       "    }\n",
       "\n",
       "    .dataframe thead th {\n",
       "        text-align: right;\n",
       "    }\n",
       "</style>\n",
       "<table border=\"1\" class=\"dataframe\">\n",
       "  <thead>\n",
       "    <tr style=\"text-align: right;\">\n",
       "      <th></th>\n",
       "      <th>Unnamed: 0_x</th>\n",
       "      <th>product_id</th>\n",
       "      <th>product_name</th>\n",
       "      <th>aisle_id</th>\n",
       "      <th>department_id</th>\n",
       "      <th>prices</th>\n",
       "      <th>Unnamed: 0_y</th>\n",
       "      <th>order_id</th>\n",
       "      <th>user_id</th>\n",
       "      <th>eval_set</th>\n",
       "      <th>order_number</th>\n",
       "      <th>order_dow</th>\n",
       "      <th>order_hour_of_day</th>\n",
       "      <th>days_since_prior_order</th>\n",
       "      <th>add_to_cart_order</th>\n",
       "      <th>reordered</th>\n",
       "      <th>_merge</th>\n",
       "    </tr>\n",
       "  </thead>\n",
       "  <tbody>\n",
       "    <tr>\n",
       "      <th>0</th>\n",
       "      <td>0</td>\n",
       "      <td>1</td>\n",
       "      <td>Chocolate Sandwich Cookies</td>\n",
       "      <td>61</td>\n",
       "      <td>19</td>\n",
       "      <td>5.8</td>\n",
       "      <td>1987</td>\n",
       "      <td>3139998</td>\n",
       "      <td>138</td>\n",
       "      <td>prior</td>\n",
       "      <td>28</td>\n",
       "      <td>6</td>\n",
       "      <td>11</td>\n",
       "      <td>3.0</td>\n",
       "      <td>5</td>\n",
       "      <td>0</td>\n",
       "      <td>both</td>\n",
       "    </tr>\n",
       "    <tr>\n",
       "      <th>1</th>\n",
       "      <td>0</td>\n",
       "      <td>1</td>\n",
       "      <td>Chocolate Sandwich Cookies</td>\n",
       "      <td>61</td>\n",
       "      <td>19</td>\n",
       "      <td>5.8</td>\n",
       "      <td>1989</td>\n",
       "      <td>1977647</td>\n",
       "      <td>138</td>\n",
       "      <td>prior</td>\n",
       "      <td>30</td>\n",
       "      <td>6</td>\n",
       "      <td>17</td>\n",
       "      <td>20.0</td>\n",
       "      <td>1</td>\n",
       "      <td>1</td>\n",
       "      <td>both</td>\n",
       "    </tr>\n",
       "    <tr>\n",
       "      <th>2</th>\n",
       "      <td>0</td>\n",
       "      <td>1</td>\n",
       "      <td>Chocolate Sandwich Cookies</td>\n",
       "      <td>61</td>\n",
       "      <td>19</td>\n",
       "      <td>5.8</td>\n",
       "      <td>11433</td>\n",
       "      <td>389851</td>\n",
       "      <td>709</td>\n",
       "      <td>prior</td>\n",
       "      <td>2</td>\n",
       "      <td>0</td>\n",
       "      <td>21</td>\n",
       "      <td>6.0</td>\n",
       "      <td>20</td>\n",
       "      <td>0</td>\n",
       "      <td>both</td>\n",
       "    </tr>\n",
       "    <tr>\n",
       "      <th>3</th>\n",
       "      <td>0</td>\n",
       "      <td>1</td>\n",
       "      <td>Chocolate Sandwich Cookies</td>\n",
       "      <td>61</td>\n",
       "      <td>19</td>\n",
       "      <td>5.8</td>\n",
       "      <td>12198</td>\n",
       "      <td>652770</td>\n",
       "      <td>764</td>\n",
       "      <td>prior</td>\n",
       "      <td>1</td>\n",
       "      <td>3</td>\n",
       "      <td>13</td>\n",
       "      <td>1st order</td>\n",
       "      <td>10</td>\n",
       "      <td>0</td>\n",
       "      <td>both</td>\n",
       "    </tr>\n",
       "    <tr>\n",
       "      <th>4</th>\n",
       "      <td>0</td>\n",
       "      <td>1</td>\n",
       "      <td>Chocolate Sandwich Cookies</td>\n",
       "      <td>61</td>\n",
       "      <td>19</td>\n",
       "      <td>5.8</td>\n",
       "      <td>12200</td>\n",
       "      <td>1813452</td>\n",
       "      <td>764</td>\n",
       "      <td>prior</td>\n",
       "      <td>3</td>\n",
       "      <td>4</td>\n",
       "      <td>17</td>\n",
       "      <td>9.0</td>\n",
       "      <td>11</td>\n",
       "      <td>1</td>\n",
       "      <td>both</td>\n",
       "    </tr>\n",
       "  </tbody>\n",
       "</table>\n",
       "</div>"
      ],
      "text/plain": [
       "   Unnamed: 0_x  product_id                product_name  aisle_id  \\\n",
       "0             0           1  Chocolate Sandwich Cookies        61   \n",
       "1             0           1  Chocolate Sandwich Cookies        61   \n",
       "2             0           1  Chocolate Sandwich Cookies        61   \n",
       "3             0           1  Chocolate Sandwich Cookies        61   \n",
       "4             0           1  Chocolate Sandwich Cookies        61   \n",
       "\n",
       "   department_id  prices  Unnamed: 0_y  order_id  user_id eval_set  \\\n",
       "0             19     5.8          1987   3139998      138    prior   \n",
       "1             19     5.8          1989   1977647      138    prior   \n",
       "2             19     5.8         11433    389851      709    prior   \n",
       "3             19     5.8         12198    652770      764    prior   \n",
       "4             19     5.8         12200   1813452      764    prior   \n",
       "\n",
       "   order_number  order_dow  order_hour_of_day days_since_prior_order  \\\n",
       "0            28          6                 11                    3.0   \n",
       "1            30          6                 17                   20.0   \n",
       "2             2          0                 21                    6.0   \n",
       "3             1          3                 13              1st order   \n",
       "4             3          4                 17                    9.0   \n",
       "\n",
       "   add_to_cart_order  reordered _merge  \n",
       "0                  5          0   both  \n",
       "1                  1          1   both  \n",
       "2                 20          0   both  \n",
       "3                 10          0   both  \n",
       "4                 11          1   both  "
      ]
     },
     "execution_count": 39,
     "metadata": {},
     "output_type": "execute_result"
    }
   ],
   "source": [
    "# checking columns \n",
    "df.head()"
   ]
  },
  {
   "cell_type": "markdown",
   "id": "0c13c8a4",
   "metadata": {},
   "source": [
    "# Price Labels"
   ]
  },
  {
   "cell_type": "code",
   "execution_count": 40,
   "id": "6c280a59",
   "metadata": {},
   "outputs": [],
   "source": [
    "# define a new function\n",
    "\n",
    "def price_label(row):\n",
    "\n",
    "  if row['prices'] <= 5:\n",
    "    return 'Low-range product'\n",
    "  elif (row['prices'] > 5) and (row['prices'] <= 15):\n",
    "    return 'Mid-range product'\n",
    "  elif row['prices'] > 15:\n",
    "    return 'High range'\n",
    "  else: return 'Not enough data'"
   ]
  },
  {
   "cell_type": "code",
   "execution_count": 41,
   "id": "727025b8",
   "metadata": {},
   "outputs": [],
   "source": [
    "# apply the new function \n",
    "\n",
    "df['price_range'] = df.apply(price_label, axis=1)"
   ]
  },
  {
   "cell_type": "code",
   "execution_count": 42,
   "id": "4be4aa0b",
   "metadata": {},
   "outputs": [
    {
     "data": {
      "text/plain": [
       "Mid-range product    652638\n",
       "Low-range product    338018\n",
       "High range             9344\n",
       "Name: price_range, dtype: int64"
      ]
     },
     "execution_count": 42,
     "metadata": {},
     "output_type": "execute_result"
    }
   ],
   "source": [
    "df['price_range'].value_counts(dropna = False)"
   ]
  },
  {
   "cell_type": "code",
   "execution_count": 43,
   "id": "7c66ef66",
   "metadata": {},
   "outputs": [
    {
     "data": {
      "text/plain": [
       "24.5"
      ]
     },
     "execution_count": 43,
     "metadata": {},
     "output_type": "execute_result"
    }
   ],
   "source": [
    "# find max values\n",
    "df['prices'].max()"
   ]
  },
  {
   "cell_type": "code",
   "execution_count": null,
   "id": "5f214efc",
   "metadata": {},
   "outputs": [],
   "source": [
    "# run the price categories on the df"
   ]
  },
  {
   "cell_type": "code",
   "execution_count": 44,
   "id": "3cb43147",
   "metadata": {},
   "outputs": [],
   "source": [
    "df.loc[df['prices'] > 15, 'price_range_loc'] = 'High-range product'"
   ]
  },
  {
   "cell_type": "code",
   "execution_count": 45,
   "id": "87cf60b6",
   "metadata": {},
   "outputs": [],
   "source": [
    "df.loc[(df['prices'] <= 15) & (df['prices'] > 5), 'price_range_loc'] = 'Mid-range product' "
   ]
  },
  {
   "cell_type": "code",
   "execution_count": 46,
   "id": "5bcebe2b",
   "metadata": {},
   "outputs": [],
   "source": [
    "df.loc[df['prices'] <= 5, 'price_range_loc'] = 'Low-range product'"
   ]
  },
  {
   "cell_type": "code",
   "execution_count": 47,
   "id": "3278f826",
   "metadata": {},
   "outputs": [
    {
     "data": {
      "text/plain": [
       "Mid-range product     652638\n",
       "Low-range product     338018\n",
       "High-range product      9344\n",
       "Name: price_range_loc, dtype: int64"
      ]
     },
     "execution_count": 47,
     "metadata": {},
     "output_type": "execute_result"
    }
   ],
   "source": [
    "df['price_range_loc'].value_counts(dropna = False)"
   ]
  },
  {
   "cell_type": "code",
   "execution_count": 55,
   "id": "418b312f",
   "metadata": {},
   "outputs": [],
   "source": [
    "# run the price categories on the entire df_complete_orders_products_combined dataframe"
   ]
  },
  {
   "cell_type": "code",
   "execution_count": 48,
   "id": "5476643c",
   "metadata": {},
   "outputs": [],
   "source": [
    "df_complete_orders_products_combined = pd.read_pickle(os.path.join(path, '2 Data', 'Prepared Data', 'complete_orders_products_combined.pkl'))"
   ]
  },
  {
   "cell_type": "code",
   "execution_count": null,
   "id": "dd15c722",
   "metadata": {},
   "outputs": [],
   "source": [
    "# set the parameters for the category labels"
   ]
  },
  {
   "cell_type": "code",
   "execution_count": 56,
   "id": "a11f0fd0",
   "metadata": {},
   "outputs": [],
   "source": [
    "df_complete_orders_products_combined.loc[df_complete_orders_products_combined['prices'] > 15, 'price_range_loc'] = 'High-range product'"
   ]
  },
  {
   "cell_type": "code",
   "execution_count": 51,
   "id": "3d506da0",
   "metadata": {},
   "outputs": [],
   "source": [
    "df_complete_orders_products_combined.loc[(df_complete_orders_products_combined['prices'] <= 15) & (df_complete_orders_products_combined['prices'] > 5),'price_range_loc'] = 'Mid-range product'"
   ]
  },
  {
   "cell_type": "code",
   "execution_count": 52,
   "id": "6c457a34",
   "metadata": {},
   "outputs": [],
   "source": [
    "df_complete_orders_products_combined.loc[df_complete_orders_products_combined['prices'] <= 5, 'price_range_loc'] = 'Low-range product'"
   ]
  },
  {
   "cell_type": "code",
   "execution_count": null,
   "id": "fc838116",
   "metadata": {},
   "outputs": [],
   "source": [
    "# find the item total amounts in the new categories"
   ]
  },
  {
   "cell_type": "code",
   "execution_count": 57,
   "id": "0ab531d3",
   "metadata": {},
   "outputs": [
    {
     "data": {
      "text/plain": [
       "Mid-range product     21860860\n",
       "Low-range product     10126321\n",
       "High-range product      417678\n",
       "Name: price_range_loc, dtype: int64"
      ]
     },
     "execution_count": 57,
     "metadata": {},
     "output_type": "execute_result"
    }
   ],
   "source": [
    "df_complete_orders_products_combined['price_range_loc'].value_counts(dropna = False)"
   ]
  },
  {
   "cell_type": "markdown",
   "id": "e65eb804",
   "metadata": {},
   "source": [
    "# Busiest days of the week"
   ]
  },
  {
   "cell_type": "code",
   "execution_count": 66,
   "id": "d9aff744",
   "metadata": {},
   "outputs": [],
   "source": [
    "# find the number of orders each day of the week"
   ]
  },
  {
   "cell_type": "code",
   "execution_count": 60,
   "id": "dff13c2f",
   "metadata": {},
   "outputs": [
    {
     "data": {
      "text/plain": [
       "0    6204182\n",
       "1    5660230\n",
       "6    4496490\n",
       "2    4213830\n",
       "5    4205791\n",
       "3    3840534\n",
       "4    3783802\n",
       "Name: order_dow, dtype: int64"
      ]
     },
     "execution_count": 60,
     "metadata": {},
     "output_type": "execute_result"
    }
   ],
   "source": [
    "df_complete_orders_products_combined['order_dow'].value_counts(dropna = False)"
   ]
  },
  {
   "cell_type": "code",
   "execution_count": 65,
   "id": "5b91fdb8",
   "metadata": {},
   "outputs": [],
   "source": [
    "# set the parameters for measuring busyness"
   ]
  },
  {
   "cell_type": "code",
   "execution_count": 62,
   "id": "c2e2fbcd",
   "metadata": {},
   "outputs": [],
   "source": [
    "result = []\n",
    "\n",
    "for value in df_complete_orders_products_combined[\"order_dow\"]:\n",
    "  if value == 0:\n",
    "    result.append(\"Busiest day\")\n",
    "  elif value == 4:\n",
    "    result.append(\"Least busy\")\n",
    "  else:\n",
    "    result.append(\"Regularly busy\")"
   ]
  },
  {
   "cell_type": "code",
   "execution_count": 63,
   "id": "d8ea576e",
   "metadata": {},
   "outputs": [],
   "source": [
    "df_complete_orders_products_combined['busiest_day'] = result"
   ]
  },
  {
   "cell_type": "code",
   "execution_count": 64,
   "id": "f23d28c7",
   "metadata": {},
   "outputs": [
    {
     "data": {
      "text/plain": [
       "Regularly busy    22416875\n",
       "Busiest day        6204182\n",
       "Least busy         3783802\n",
       "Name: busiest_day, dtype: int64"
      ]
     },
     "execution_count": 64,
     "metadata": {},
     "output_type": "execute_result"
    }
   ],
   "source": [
    "df_complete_orders_products_combined['busiest_day'].value_counts(dropna = False)"
   ]
  },
  {
   "cell_type": "code",
   "execution_count": 70,
   "id": "972ed0b9",
   "metadata": {},
   "outputs": [],
   "source": [
    "#Saturday (0) and Sunday (1) are the days with the most orders, conversely Tuesday (4) and Wednesday (3) are \n",
    "#the days with the fewest orders\n",
    "\n",
    "days = []\n",
    "\n",
    "for day in df_complete_orders_products_combined['order_dow']:\n",
    "  if day == 0 or day == 1:\n",
    "    days.append('Busiest days')\n",
    "  elif day == 4 or day == 3:\n",
    "    days.append('Slowest days')\n",
    "  else:\n",
    "    days.append('Regular days')"
   ]
  },
  {
   "cell_type": "code",
   "execution_count": 71,
   "id": "8f89d50e",
   "metadata": {},
   "outputs": [
    {
     "name": "stdout",
     "output_type": "stream",
     "text": [
      "Frequency of values in the busiest_days column:\n",
      " Regular days    12916111\n",
      "Busiest days    11864412\n",
      "Slowest days     7624336\n",
      "Name: busiest_days, dtype: int64\n"
     ]
    }
   ],
   "source": [
    "# create the 'busiest_days' column\n",
    "df_complete_orders_products_combined['busiest_days'] = days\n",
    "\n",
    "# get the frequency of the values in the 'busiest_days' column\n",
    "print('Frequency of values in the busiest_days column:\\n', df_complete_orders_products_combined['busiest_days'].value_counts())"
   ]
  },
  {
   "cell_type": "code",
   "execution_count": 73,
   "id": "9318b8c6",
   "metadata": {},
   "outputs": [
    {
     "name": "stdout",
     "output_type": "stream",
     "text": [
      "Output of the order_dow and the busiest_days column:\n",
      "    order_dow  busiest_days\n",
      "0          6  Regular days\n",
      "1          6  Regular days\n",
      "2          0  Busiest days\n",
      "3          3  Slowest days\n",
      "4          4  Slowest days\n",
      "5          1  Busiest days\n",
      "6          2  Regular days\n",
      "7          3  Slowest days\n",
      "8          1  Busiest days\n",
      "9          1  Busiest days\n"
     ]
    }
   ],
   "source": [
    "# check the output of the 'orders_day_of_week' and the 'busiest_days' column for accuracy\n",
    "print('Output of the order_dow and the busiest_days column:\\n', df_complete_orders_products_combined[['order_dow', 'busiest_days']].head(10))"
   ]
  },
  {
   "cell_type": "code",
   "execution_count": 75,
   "id": "5c7f39ec",
   "metadata": {},
   "outputs": [
    {
     "name": "stdout",
     "output_type": "stream",
     "text": [
      "Frequency of values in the order_hour_of_day column:\n",
      " 10    2761760\n",
      "11    2736140\n",
      "14    2689136\n",
      "15    2662144\n",
      "13    2660954\n",
      "12    2618532\n",
      "16    2535202\n",
      "9     2454203\n",
      "17    2087654\n",
      "8     1718118\n",
      "18    1636502\n",
      "19    1258305\n",
      "20     976156\n",
      "7      891054\n",
      "21     795637\n",
      "22     634225\n",
      "23     402316\n",
      "6      290493\n",
      "0      218769\n",
      "1      115700\n",
      "5       87961\n",
      "2       69375\n",
      "4       53242\n",
      "3       51281\n",
      "Name: order_hour_of_day, dtype: int64\n"
     ]
    }
   ],
   "source": [
    "# get the frequency of the values in the 'order_hour_of_day' column\n",
    "print('Frequency of values in the order_hour_of_day column:\\n', df_complete_orders_products_combined['order_hour_of_day'].value_counts())"
   ]
  },
  {
   "cell_type": "code",
   "execution_count": 76,
   "id": "56be26e6",
   "metadata": {},
   "outputs": [],
   "source": [
    "# create a for-loop that append to the 'hours' list the busyness of the hours based on values in the 'order_hour_of_day' column\n",
    "hours = []\n",
    "\n",
    "for hour in df_complete_orders_products_combined['order_hour_of_day']:\n",
    "  if hour in [10, 11, 14, 15, 13, 12, 16, 9]:\n",
    "    hours.append('Most orders')\n",
    "  elif hour in [23, 6, 0, 1, 5, 2, 4, 3]:\n",
    "    hours.append('Fewest orders')\n",
    "  else:\n",
    "    hours.append('Average orders')"
   ]
  },
  {
   "cell_type": "code",
   "execution_count": 77,
   "id": "e8a528d3",
   "metadata": {},
   "outputs": [],
   "source": [
    "# create the 'busiest_period_of_day' column\n",
    "df_complete_orders_products_combined['busiest_period_of_day'] = hours"
   ]
  },
  {
   "cell_type": "code",
   "execution_count": 78,
   "id": "eb0a7c10",
   "metadata": {},
   "outputs": [
    {
     "data": {
      "text/html": [
       "<div>\n",
       "<style scoped>\n",
       "    .dataframe tbody tr th:only-of-type {\n",
       "        vertical-align: middle;\n",
       "    }\n",
       "\n",
       "    .dataframe tbody tr th {\n",
       "        vertical-align: top;\n",
       "    }\n",
       "\n",
       "    .dataframe thead th {\n",
       "        text-align: right;\n",
       "    }\n",
       "</style>\n",
       "<table border=\"1\" class=\"dataframe\">\n",
       "  <thead>\n",
       "    <tr style=\"text-align: right;\">\n",
       "      <th></th>\n",
       "      <th>order_hour_of_day</th>\n",
       "      <th>busiest_period_of_day</th>\n",
       "    </tr>\n",
       "  </thead>\n",
       "  <tbody>\n",
       "    <tr>\n",
       "      <th>0</th>\n",
       "      <td>11</td>\n",
       "      <td>Most orders</td>\n",
       "    </tr>\n",
       "    <tr>\n",
       "      <th>1</th>\n",
       "      <td>17</td>\n",
       "      <td>Average orders</td>\n",
       "    </tr>\n",
       "    <tr>\n",
       "      <th>2</th>\n",
       "      <td>21</td>\n",
       "      <td>Average orders</td>\n",
       "    </tr>\n",
       "    <tr>\n",
       "      <th>3</th>\n",
       "      <td>13</td>\n",
       "      <td>Most orders</td>\n",
       "    </tr>\n",
       "    <tr>\n",
       "      <th>4</th>\n",
       "      <td>17</td>\n",
       "      <td>Average orders</td>\n",
       "    </tr>\n",
       "    <tr>\n",
       "      <th>5</th>\n",
       "      <td>7</td>\n",
       "      <td>Average orders</td>\n",
       "    </tr>\n",
       "    <tr>\n",
       "      <th>6</th>\n",
       "      <td>14</td>\n",
       "      <td>Most orders</td>\n",
       "    </tr>\n",
       "    <tr>\n",
       "      <th>7</th>\n",
       "      <td>10</td>\n",
       "      <td>Most orders</td>\n",
       "    </tr>\n",
       "    <tr>\n",
       "      <th>8</th>\n",
       "      <td>20</td>\n",
       "      <td>Average orders</td>\n",
       "    </tr>\n",
       "    <tr>\n",
       "      <th>9</th>\n",
       "      <td>12</td>\n",
       "      <td>Most orders</td>\n",
       "    </tr>\n",
       "  </tbody>\n",
       "</table>\n",
       "</div>"
      ],
      "text/plain": [
       "   order_hour_of_day busiest_period_of_day\n",
       "0                 11           Most orders\n",
       "1                 17        Average orders\n",
       "2                 21        Average orders\n",
       "3                 13           Most orders\n",
       "4                 17        Average orders\n",
       "5                  7        Average orders\n",
       "6                 14           Most orders\n",
       "7                 10           Most orders\n",
       "8                 20        Average orders\n",
       "9                 12           Most orders"
      ]
     },
     "execution_count": 78,
     "metadata": {},
     "output_type": "execute_result"
    }
   ],
   "source": [
    "# check the output of the 'order_hour_of_day' and the 'busiest_period_of_day' column for accuracy\n",
    "df_complete_orders_products_combined[['order_hour_of_day', 'busiest_period_of_day']].head(10)"
   ]
  },
  {
   "cell_type": "code",
   "execution_count": 80,
   "id": "0b6772a0",
   "metadata": {},
   "outputs": [
    {
     "name": "stdout",
     "output_type": "stream",
     "text": [
      "Frequency of values in the busiest_period_of_day column:\n",
      " Most orders       21118071\n",
      "Average orders     9997651\n",
      "Fewest orders      1289137\n",
      "Name: busiest_period_of_day, dtype: int64\n"
     ]
    }
   ],
   "source": [
    "# get the frequency of the values in the 'busiest_period_of_day' column\n",
    "print('Frequency of values in the busiest_period_of_day column:\\n', df_complete_orders_products_combined['busiest_period_of_day'].value_counts())"
   ]
  },
  {
   "cell_type": "code",
   "execution_count": 82,
   "id": "86c64b68",
   "metadata": {},
   "outputs": [],
   "source": [
    "# export df_ords_merged in .pkl format\n",
    "df_complete_orders_products_combined.to_pickle(r'/Users/amykillin/Desktop/Mark Career Foundry Data/Data Immersion/Topic 4/Instacart Basket Analysis/2 Data/Prepared Data/df_complete_orders_products_combined_4.7.pkl')"
   ]
  },
  {
   "cell_type": "code",
   "execution_count": null,
   "id": "f5c922e6",
   "metadata": {},
   "outputs": [],
   "source": []
  }
 ],
 "metadata": {
  "kernelspec": {
   "display_name": "Python 3 (ipykernel)",
   "language": "python",
   "name": "python3"
  },
  "language_info": {
   "codemirror_mode": {
    "name": "ipython",
    "version": 3
   },
   "file_extension": ".py",
   "mimetype": "text/x-python",
   "name": "python",
   "nbconvert_exporter": "python",
   "pygments_lexer": "ipython3",
   "version": "3.11.3"
  }
 },
 "nbformat": 4,
 "nbformat_minor": 5
}
