{
 "cells": [
  {
   "cell_type": "code",
   "execution_count": 1,
   "id": "94ab8e3c",
   "metadata": {},
   "outputs": [],
   "source": [
    "#Import Libraries\n",
    "\n",
    "import pandas as pd\n",
    "import numpy as np\n",
    "import os\n",
    "import matplotlib.pyplot as plt\n",
    "import seaborn as sns\n",
    "import scipy"
   ]
  },
  {
   "cell_type": "code",
   "execution_count": 2,
   "id": "45ac6275",
   "metadata": {},
   "outputs": [],
   "source": [
    "# define path\n",
    "path = r'/Users/amykillin/Desktop/Mark Career Foundry Data/Data Immersion/Topic 4/Instacart Basket Analysis'"
   ]
  },
  {
   "cell_type": "code",
   "execution_count": 3,
   "id": "faf9432d",
   "metadata": {},
   "outputs": [],
   "source": [
    "# import customer dataframe\n",
    "\n",
    "df = pd.read_csv(os.path.join(path, '2 Data', 'Original Data', 'customers.csv'), index_col = False)"
   ]
  },
  {
   "cell_type": "code",
   "execution_count": 4,
   "id": "cb15e192",
   "metadata": {},
   "outputs": [],
   "source": [
    "# import merged dataframe from 4.8\n",
    "\n",
    "df_merge = pd.read_pickle(os.path.join( path, '2 Data', 'Prepared Data', 'orders_products_merged_updated_4.8_revised.pkl'))"
   ]
  },
  {
   "cell_type": "code",
   "execution_count": 5,
   "id": "42b72391",
   "metadata": {},
   "outputs": [
    {
     "data": {
      "text/plain": [
       "Unnamed: 0_x                 int64\n",
       "product_id                   int64\n",
       "product_name                object\n",
       "aisle_id                     int64\n",
       "department_id                int64\n",
       "prices                     float64\n",
       "Unnamed: 0_y                 int64\n",
       "order_id                     int64\n",
       "user_id                      int64\n",
       "eval_set                    object\n",
       "order_number                 int64\n",
       "order_dow                    int64\n",
       "order_hour_of_day            int64\n",
       "days_since_prior_order      object\n",
       "add_to_cart_order            int64\n",
       "reordered                    int64\n",
       "_merge                    category\n",
       "price_range_loc             object\n",
       "busiest_day                 object\n",
       "busiest_days                object\n",
       "busiest_period_of_day       object\n",
       "max_order                    int64\n",
       "loyalty_flag                object\n",
       "average_price              float64\n",
       "spending_flag               object\n",
       "median_prior_orders        float64\n",
       "order_frequency_flag        object\n",
       "dtype: object"
      ]
     },
     "execution_count": 5,
     "metadata": {},
     "output_type": "execute_result"
    }
   ],
   "source": [
    "df_merge.dtypes"
   ]
  },
  {
   "cell_type": "code",
   "execution_count": 6,
   "id": "18f3f167",
   "metadata": {},
   "outputs": [],
   "source": [
    "df_merge = df_merge.drop(columns = ['_merge'])"
   ]
  },
  {
   "cell_type": "code",
   "execution_count": 7,
   "id": "cfe82a3c",
   "metadata": {},
   "outputs": [
    {
     "data": {
      "text/html": [
       "<div>\n",
       "<style scoped>\n",
       "    .dataframe tbody tr th:only-of-type {\n",
       "        vertical-align: middle;\n",
       "    }\n",
       "\n",
       "    .dataframe tbody tr th {\n",
       "        vertical-align: top;\n",
       "    }\n",
       "\n",
       "    .dataframe thead th {\n",
       "        text-align: right;\n",
       "    }\n",
       "</style>\n",
       "<table border=\"1\" class=\"dataframe\">\n",
       "  <thead>\n",
       "    <tr style=\"text-align: right;\">\n",
       "      <th></th>\n",
       "      <th>user_id</th>\n",
       "      <th>First Name</th>\n",
       "      <th>Surnam</th>\n",
       "      <th>Gender</th>\n",
       "      <th>STATE</th>\n",
       "      <th>Age</th>\n",
       "      <th>date_joined</th>\n",
       "      <th>n_dependants</th>\n",
       "      <th>fam_status</th>\n",
       "      <th>income</th>\n",
       "    </tr>\n",
       "  </thead>\n",
       "  <tbody>\n",
       "    <tr>\n",
       "      <th>0</th>\n",
       "      <td>26711</td>\n",
       "      <td>Deborah</td>\n",
       "      <td>Esquivel</td>\n",
       "      <td>Female</td>\n",
       "      <td>Missouri</td>\n",
       "      <td>48</td>\n",
       "      <td>1/1/2017</td>\n",
       "      <td>3</td>\n",
       "      <td>married</td>\n",
       "      <td>165665</td>\n",
       "    </tr>\n",
       "    <tr>\n",
       "      <th>1</th>\n",
       "      <td>33890</td>\n",
       "      <td>Patricia</td>\n",
       "      <td>Hart</td>\n",
       "      <td>Female</td>\n",
       "      <td>New Mexico</td>\n",
       "      <td>36</td>\n",
       "      <td>1/1/2017</td>\n",
       "      <td>0</td>\n",
       "      <td>single</td>\n",
       "      <td>59285</td>\n",
       "    </tr>\n",
       "    <tr>\n",
       "      <th>2</th>\n",
       "      <td>65803</td>\n",
       "      <td>Kenneth</td>\n",
       "      <td>Farley</td>\n",
       "      <td>Male</td>\n",
       "      <td>Idaho</td>\n",
       "      <td>35</td>\n",
       "      <td>1/1/2017</td>\n",
       "      <td>2</td>\n",
       "      <td>married</td>\n",
       "      <td>99568</td>\n",
       "    </tr>\n",
       "    <tr>\n",
       "      <th>3</th>\n",
       "      <td>125935</td>\n",
       "      <td>Michelle</td>\n",
       "      <td>Hicks</td>\n",
       "      <td>Female</td>\n",
       "      <td>Iowa</td>\n",
       "      <td>40</td>\n",
       "      <td>1/1/2017</td>\n",
       "      <td>0</td>\n",
       "      <td>single</td>\n",
       "      <td>42049</td>\n",
       "    </tr>\n",
       "    <tr>\n",
       "      <th>4</th>\n",
       "      <td>130797</td>\n",
       "      <td>Ann</td>\n",
       "      <td>Gilmore</td>\n",
       "      <td>Female</td>\n",
       "      <td>Maryland</td>\n",
       "      <td>26</td>\n",
       "      <td>1/1/2017</td>\n",
       "      <td>1</td>\n",
       "      <td>married</td>\n",
       "      <td>40374</td>\n",
       "    </tr>\n",
       "  </tbody>\n",
       "</table>\n",
       "</div>"
      ],
      "text/plain": [
       "   user_id First Name    Surnam  Gender       STATE  Age date_joined  \\\n",
       "0    26711    Deborah  Esquivel  Female    Missouri   48    1/1/2017   \n",
       "1    33890   Patricia      Hart  Female  New Mexico   36    1/1/2017   \n",
       "2    65803    Kenneth    Farley    Male       Idaho   35    1/1/2017   \n",
       "3   125935   Michelle     Hicks  Female        Iowa   40    1/1/2017   \n",
       "4   130797        Ann   Gilmore  Female    Maryland   26    1/1/2017   \n",
       "\n",
       "   n_dependants fam_status  income  \n",
       "0             3    married  165665  \n",
       "1             0     single   59285  \n",
       "2             2    married   99568  \n",
       "3             0     single   42049  \n",
       "4             1    married   40374  "
      ]
     },
     "execution_count": 7,
     "metadata": {},
     "output_type": "execute_result"
    }
   ],
   "source": [
    "df.head()"
   ]
  },
  {
   "cell_type": "code",
   "execution_count": 8,
   "id": "0b85dd82",
   "metadata": {},
   "outputs": [
    {
     "data": {
      "text/plain": [
       "user_id          int64\n",
       "First Name      object\n",
       "Surnam          object\n",
       "Gender          object\n",
       "STATE           object\n",
       "Age              int64\n",
       "date_joined     object\n",
       "n_dependants     int64\n",
       "fam_status      object\n",
       "income           int64\n",
       "dtype: object"
      ]
     },
     "execution_count": 8,
     "metadata": {},
     "output_type": "execute_result"
    }
   ],
   "source": [
    "df.dtypes"
   ]
  },
  {
   "cell_type": "code",
   "execution_count": 9,
   "id": "eb73c2a3",
   "metadata": {},
   "outputs": [
    {
     "name": "stdout",
     "output_type": "stream",
     "text": [
      "<class 'pandas.core.frame.DataFrame'>\n",
      "RangeIndex: 206209 entries, 0 to 206208\n",
      "Data columns (total 10 columns):\n",
      " #   Column        Non-Null Count   Dtype \n",
      "---  ------        --------------   ----- \n",
      " 0   user_id       206209 non-null  int64 \n",
      " 1   First Name    194950 non-null  object\n",
      " 2   Surnam        206209 non-null  object\n",
      " 3   Gender        206209 non-null  object\n",
      " 4   STATE         206209 non-null  object\n",
      " 5   Age           206209 non-null  int64 \n",
      " 6   date_joined   206209 non-null  object\n",
      " 7   n_dependants  206209 non-null  int64 \n",
      " 8   fam_status    206209 non-null  object\n",
      " 9   income        206209 non-null  int64 \n",
      "dtypes: int64(4), object(6)\n",
      "memory usage: 15.7+ MB\n"
     ]
    }
   ],
   "source": [
    "df.info()"
   ]
  },
  {
   "cell_type": "code",
   "execution_count": 12,
   "id": "baf0d9bb",
   "metadata": {},
   "outputs": [],
   "source": [
    "# Notes for me about the naming of the columns to clarify and tidy\n",
    "...\n",
    "# user_id is fine, it is basically the account reference number\n",
    "# First Name should be called 'first_name'\n",
    "# Surnam should be'last_name'\n",
    "# Age should be age, IS relevant\n",
    "# n_dependants should be number_of_dependants, IS relevant\n",
    "# income should perhaps be annual_income, IS relevant"
   ]
  },
  {
   "cell_type": "code",
   "execution_count": 10,
   "id": "37fa68ff",
   "metadata": {},
   "outputs": [
    {
     "name": "stdout",
     "output_type": "stream",
     "text": [
      "<class 'pandas.core.frame.DataFrame'>\n",
      "RangeIndex: 206209 entries, 0 to 206208\n",
      "Data columns (total 10 columns):\n",
      " #   Column        Non-Null Count   Dtype \n",
      "---  ------        --------------   ----- \n",
      " 0   user_id       206209 non-null  int64 \n",
      " 1   First Name    194950 non-null  object\n",
      " 2   Surnam        206209 non-null  object\n",
      " 3   Gender        206209 non-null  object\n",
      " 4   STATE         206209 non-null  object\n",
      " 5   Age           206209 non-null  int64 \n",
      " 6   date_joined   206209 non-null  object\n",
      " 7   n_dependants  206209 non-null  int64 \n",
      " 8   fam_status    206209 non-null  object\n",
      " 9   income        206209 non-null  int64 \n",
      "dtypes: int64(4), object(6)\n",
      "memory usage: 15.7+ MB\n"
     ]
    }
   ],
   "source": [
    "df.info()"
   ]
  },
  {
   "cell_type": "code",
   "execution_count": 11,
   "id": "392d42fc",
   "metadata": {},
   "outputs": [],
   "source": [
    "# Renaming the columns with clearer titles\n",
    "\n",
    "df.rename(columns = {'First Name' : 'first_name'}, inplace = True)"
   ]
  },
  {
   "cell_type": "code",
   "execution_count": 12,
   "id": "94897352",
   "metadata": {},
   "outputs": [],
   "source": [
    "df.rename(columns = {'Surnam' : 'surname'}, inplace = True)"
   ]
  },
  {
   "cell_type": "code",
   "execution_count": 13,
   "id": "06d26b0f",
   "metadata": {},
   "outputs": [],
   "source": [
    "df.rename(columns = {'Age' : 'age'}, inplace = True)"
   ]
  },
  {
   "cell_type": "code",
   "execution_count": 14,
   "id": "8fc69aad",
   "metadata": {},
   "outputs": [],
   "source": [
    "df.rename(columns = {'n_dependants' : 'number_of_dependants'}, inplace = True)"
   ]
  },
  {
   "cell_type": "code",
   "execution_count": 15,
   "id": "262541e7",
   "metadata": {},
   "outputs": [],
   "source": [
    "df.rename(columns = {'income' : 'spending_power'}, inplace = True)"
   ]
  },
  {
   "cell_type": "code",
   "execution_count": 16,
   "id": "d6cc8691",
   "metadata": {},
   "outputs": [
    {
     "name": "stdout",
     "output_type": "stream",
     "text": [
      "<class 'pandas.core.frame.DataFrame'>\n",
      "RangeIndex: 206209 entries, 0 to 206208\n",
      "Data columns (total 10 columns):\n",
      " #   Column                Non-Null Count   Dtype \n",
      "---  ------                --------------   ----- \n",
      " 0   user_id               206209 non-null  int64 \n",
      " 1   first_name            194950 non-null  object\n",
      " 2   surname               206209 non-null  object\n",
      " 3   Gender                206209 non-null  object\n",
      " 4   STATE                 206209 non-null  object\n",
      " 5   age                   206209 non-null  int64 \n",
      " 6   date_joined           206209 non-null  object\n",
      " 7   number_of_dependants  206209 non-null  int64 \n",
      " 8   fam_status            206209 non-null  object\n",
      " 9   spending_power        206209 non-null  int64 \n",
      "dtypes: int64(4), object(6)\n",
      "memory usage: 15.7+ MB\n"
     ]
    }
   ],
   "source": [
    "df.info()"
   ]
  },
  {
   "cell_type": "code",
   "execution_count": 17,
   "id": "2aa937f7",
   "metadata": {},
   "outputs": [
    {
     "data": {
      "text/plain": [
       "user_id  first_name  surname  Gender  STATE           age  date_joined  number_of_dependants  fam_status                        spending_power\n",
       "1        Linda       Nguyen   Female  Alabama         31   2/17/2019    3                     married                           40423             1\n",
       "137533   Pamela      Jordan   Female  Mississippi     81   3/8/2017     0                     divorced/widowed                  149021            1\n",
       "137524   Joe         Dennis   Male    North Carolina  49   7/31/2018    3                     married                           168826            1\n",
       "137525   Jeremy      Bennett  Male    North Dakota    44   3/26/2017    1                     married                           143155            1\n",
       "137526   Jack        Bryan    Male    Ohio            41   12/11/2017   2                     married                           41253             1\n",
       "                                                                                                                                                 ..\n",
       "68823    Janice      Drake    Female  New Hampshire   43   12/11/2019   3                     married                           127050            1\n",
       "68824    Jason       Mcgee    Male    New Jersey      78   5/4/2017     0                     divorced/widowed                  136277            1\n",
       "68825    Anna        Allison  Female  New Mexico      52   11/12/2018   3                     married                           41086             1\n",
       "68826    Sean        Hinton   Male    New York        21   3/22/2017    2                     living with parents and siblings  77065             1\n",
       "206209   Diana       Donovan  Female  Iowa            74   9/14/2019    3                     married                           137969            1\n",
       "Length: 194950, dtype: int64"
      ]
     },
     "execution_count": 17,
     "metadata": {},
     "output_type": "execute_result"
    }
   ],
   "source": [
    "# Checking for non values in all the columns\n",
    "\n",
    "df.value_counts()"
   ]
  },
  {
   "cell_type": "code",
   "execution_count": 18,
   "id": "64166d0f",
   "metadata": {},
   "outputs": [
    {
     "data": {
      "text/plain": [
       "user_id                     0\n",
       "first_name              11259\n",
       "surname                     0\n",
       "Gender                      0\n",
       "STATE                       0\n",
       "age                         0\n",
       "date_joined                 0\n",
       "number_of_dependants        0\n",
       "fam_status                  0\n",
       "spending_power              0\n",
       "dtype: int64"
      ]
     },
     "execution_count": 18,
     "metadata": {},
     "output_type": "execute_result"
    }
   ],
   "source": [
    "df.isnull().sum()"
   ]
  },
  {
   "cell_type": "code",
   "execution_count": 19,
   "id": "bb30560c",
   "metadata": {},
   "outputs": [
    {
     "data": {
      "text/plain": [
       "NaN        11259\n",
       "Marilyn     2213\n",
       "Barbara     2154\n",
       "Todd        2113\n",
       "Jeremy      2104\n",
       "           ...  \n",
       "Merry        197\n",
       "Eugene       197\n",
       "Garry        191\n",
       "Ned          186\n",
       "David        186\n",
       "Name: first_name, Length: 208, dtype: int64"
      ]
     },
     "execution_count": 19,
     "metadata": {},
     "output_type": "execute_result"
    }
   ],
   "source": [
    "df['first_name'].value_counts(dropna = False)"
   ]
  },
  {
   "cell_type": "code",
   "execution_count": 20,
   "id": "a1aeb56e",
   "metadata": {},
   "outputs": [],
   "source": [
    "# There are 11259 NaN values for first_name"
   ]
  },
  {
   "cell_type": "code",
   "execution_count": 21,
   "id": "714e5388",
   "metadata": {},
   "outputs": [
    {
     "name": "stdout",
     "output_type": "stream",
     "text": [
      "first_name\n"
     ]
    }
   ],
   "source": [
    "for col in df.columns.tolist():\n",
    "  weird = (df[[col]].applymap(type) != df[[col]].iloc[0].apply(type)).any(axis = 1)\n",
    "  if len (df[weird]) > 0:\n",
    "    print (col)"
   ]
  },
  {
   "cell_type": "code",
   "execution_count": 22,
   "id": "4dccc903",
   "metadata": {},
   "outputs": [],
   "source": [
    "# Change data type of 'first_name' to string\n",
    "\n",
    "df['first_name'] = df['first_name'].astype('str')"
   ]
  },
  {
   "cell_type": "code",
   "execution_count": 23,
   "id": "8eac6d87",
   "metadata": {},
   "outputs": [],
   "source": [
    "# Test to see if we still have mixed data types"
   ]
  },
  {
   "cell_type": "code",
   "execution_count": 24,
   "id": "b7646f44",
   "metadata": {},
   "outputs": [],
   "source": [
    "for col in df.columns.tolist():\n",
    "  weird = (df[[col]].applymap(type) != df[[col]].iloc[0].apply(type)).any(axis = 1)\n",
    "  if len (df[weird]) > 0:\n",
    "    print (col)"
   ]
  },
  {
   "cell_type": "code",
   "execution_count": 25,
   "id": "19515f6c",
   "metadata": {},
   "outputs": [
    {
     "data": {
      "text/plain": [
       "user_id                  int64\n",
       "first_name              object\n",
       "surname                 object\n",
       "Gender                  object\n",
       "STATE                   object\n",
       "age                      int64\n",
       "date_joined             object\n",
       "number_of_dependants     int64\n",
       "fam_status              object\n",
       "spending_power           int64\n",
       "dtype: object"
      ]
     },
     "execution_count": 25,
     "metadata": {},
     "output_type": "execute_result"
    }
   ],
   "source": [
    "df.dtypes"
   ]
  },
  {
   "cell_type": "code",
   "execution_count": 26,
   "id": "ed61409b",
   "metadata": {},
   "outputs": [],
   "source": [
    "# All column formats are now accurate"
   ]
  },
  {
   "cell_type": "code",
   "execution_count": 27,
   "id": "362d4016",
   "metadata": {},
   "outputs": [],
   "source": [
    "# Checking now for duplicate values\n",
    "\n",
    "df_dups = df[df.duplicated()]"
   ]
  },
  {
   "cell_type": "code",
   "execution_count": 28,
   "id": "62ab7b30",
   "metadata": {},
   "outputs": [
    {
     "data": {
      "text/html": [
       "<div>\n",
       "<style scoped>\n",
       "    .dataframe tbody tr th:only-of-type {\n",
       "        vertical-align: middle;\n",
       "    }\n",
       "\n",
       "    .dataframe tbody tr th {\n",
       "        vertical-align: top;\n",
       "    }\n",
       "\n",
       "    .dataframe thead th {\n",
       "        text-align: right;\n",
       "    }\n",
       "</style>\n",
       "<table border=\"1\" class=\"dataframe\">\n",
       "  <thead>\n",
       "    <tr style=\"text-align: right;\">\n",
       "      <th></th>\n",
       "      <th>user_id</th>\n",
       "      <th>first_name</th>\n",
       "      <th>surname</th>\n",
       "      <th>Gender</th>\n",
       "      <th>STATE</th>\n",
       "      <th>age</th>\n",
       "      <th>date_joined</th>\n",
       "      <th>number_of_dependants</th>\n",
       "      <th>fam_status</th>\n",
       "      <th>spending_power</th>\n",
       "    </tr>\n",
       "  </thead>\n",
       "  <tbody>\n",
       "  </tbody>\n",
       "</table>\n",
       "</div>"
      ],
      "text/plain": [
       "Empty DataFrame\n",
       "Columns: [user_id, first_name, surname, Gender, STATE, age, date_joined, number_of_dependants, fam_status, spending_power]\n",
       "Index: []"
      ]
     },
     "execution_count": 28,
     "metadata": {},
     "output_type": "execute_result"
    }
   ],
   "source": [
    "df_dups"
   ]
  },
  {
   "cell_type": "code",
   "execution_count": 29,
   "id": "87b84912",
   "metadata": {},
   "outputs": [],
   "source": [
    "# No Duplicates"
   ]
  },
  {
   "cell_type": "code",
   "execution_count": 30,
   "id": "bb862251",
   "metadata": {},
   "outputs": [],
   "source": [
    "# Combine with 4.8 "
   ]
  },
  {
   "cell_type": "code",
   "execution_count": 31,
   "id": "67d66c3a",
   "metadata": {},
   "outputs": [
    {
     "data": {
      "text/plain": [
       "<bound method DataFrame.info of         user_id first_name   surname  Gender           STATE  age date_joined  \\\n",
       "0         26711    Deborah  Esquivel  Female        Missouri   48    1/1/2017   \n",
       "1         33890   Patricia      Hart  Female      New Mexico   36    1/1/2017   \n",
       "2         65803    Kenneth    Farley    Male           Idaho   35    1/1/2017   \n",
       "3        125935   Michelle     Hicks  Female            Iowa   40    1/1/2017   \n",
       "4        130797        Ann   Gilmore  Female        Maryland   26    1/1/2017   \n",
       "...         ...        ...       ...     ...             ...  ...         ...   \n",
       "206204   168073       Lisa      Case  Female  North Carolina   44    4/1/2020   \n",
       "206205    49635     Jeremy   Robbins    Male          Hawaii   62    4/1/2020   \n",
       "206206   135902      Doris  Richmond  Female        Missouri   66    4/1/2020   \n",
       "206207    81095       Rose   Rollins  Female      California   27    4/1/2020   \n",
       "206208    80148    Cynthia     Noble  Female        New York   55    4/1/2020   \n",
       "\n",
       "        number_of_dependants fam_status  spending_power  \n",
       "0                          3    married          165665  \n",
       "1                          0     single           59285  \n",
       "2                          2    married           99568  \n",
       "3                          0     single           42049  \n",
       "4                          1    married           40374  \n",
       "...                      ...        ...             ...  \n",
       "206204                     1    married          148828  \n",
       "206205                     3    married          168639  \n",
       "206206                     2    married           53374  \n",
       "206207                     1    married           99799  \n",
       "206208                     1    married           57095  \n",
       "\n",
       "[206209 rows x 10 columns]>"
      ]
     },
     "execution_count": 31,
     "metadata": {},
     "output_type": "execute_result"
    }
   ],
   "source": [
    "df.info"
   ]
  },
  {
   "cell_type": "code",
   "execution_count": 14,
   "id": "2edbc3e5",
   "metadata": {},
   "outputs": [
    {
     "data": {
      "text/plain": [
       "<bound method DataFrame.info of           Unnamed: 0_x  product_id                product_name  aisle_id  \\\n",
       "0                    0           1  Chocolate Sandwich Cookies        61   \n",
       "1                    0           1  Chocolate Sandwich Cookies        61   \n",
       "2                    0           1  Chocolate Sandwich Cookies        61   \n",
       "3                    0           1  Chocolate Sandwich Cookies        61   \n",
       "4                    0           1  Chocolate Sandwich Cookies        61   \n",
       "...                ...         ...                         ...       ...   \n",
       "32404854         49692       49688      Fresh Foaming Cleanser        73   \n",
       "32404855         49692       49688      Fresh Foaming Cleanser        73   \n",
       "32404856         49692       49688      Fresh Foaming Cleanser        73   \n",
       "32404857         49692       49688      Fresh Foaming Cleanser        73   \n",
       "32404858         49692       49688      Fresh Foaming Cleanser        73   \n",
       "\n",
       "          department_id  prices  Unnamed: 0_y  order_id  user_id eval_set  \\\n",
       "0                    19     5.8          1987   3139998      138    prior   \n",
       "1                    19     5.8          1989   1977647      138    prior   \n",
       "2                    19     5.8         11433    389851      709    prior   \n",
       "3                    19     5.8         12198    652770      764    prior   \n",
       "4                    19     5.8         12200   1813452      764    prior   \n",
       "...                 ...     ...           ...       ...      ...      ...   \n",
       "32404854             11    13.5       3321928   1788356   200215    prior   \n",
       "32404855             11    13.5       3324686   3401313   200377    prior   \n",
       "32404856             11    13.5       3332310    809510   200873    prior   \n",
       "32404857             11    13.5       3332314   2359893   200873    prior   \n",
       "32404858             11    13.5       3416620   2385091   205926    prior   \n",
       "\n",
       "          ...    price_range_loc     busiest_day  busiest_days  \\\n",
       "0         ...  Mid-range product  Regularly busy  Regular days   \n",
       "1         ...  Mid-range product  Regularly busy  Regular days   \n",
       "2         ...  Mid-range product     Busiest day  Busiest days   \n",
       "3         ...  Mid-range product  Regularly busy  Slowest days   \n",
       "4         ...  Mid-range product      Least busy  Slowest days   \n",
       "...       ...                ...             ...           ...   \n",
       "32404854  ...  Mid-range product     Busiest day  Busiest days   \n",
       "32404855  ...  Mid-range product      Least busy  Slowest days   \n",
       "32404856  ...  Mid-range product  Regularly busy  Slowest days   \n",
       "32404857  ...  Mid-range product  Regularly busy  Slowest days   \n",
       "32404858  ...  Mid-range product  Regularly busy  Busiest days   \n",
       "\n",
       "         busiest_period_of_day  max_order      loyalty_flag average_price  \\\n",
       "0                  Most orders         32  Regular customer      6.935811   \n",
       "1               Average orders         32  Regular customer      6.935811   \n",
       "2               Average orders          5      New customer      7.930208   \n",
       "3                  Most orders          3      New customer      4.972414   \n",
       "4               Average orders          3      New customer      4.972414   \n",
       "...                        ...        ...               ...           ...   \n",
       "32404854           Most orders          6      New customer      8.220313   \n",
       "32404855           Most orders          4      New customer      7.364516   \n",
       "32404856        Average orders         20  Regular customer      8.500344   \n",
       "32404857           Most orders         20  Regular customer      8.500344   \n",
       "32404858           Most orders         11  Regular customer      8.133333   \n",
       "\n",
       "         spending_flag median_prior_orders   order_frequency_flag  \n",
       "0          Low spender                 8.0      Frequent customer  \n",
       "1          Low spender                 8.0      Frequent customer  \n",
       "2          Low spender                 8.0      Frequent customer  \n",
       "3          Low spender                13.0       Regular customer  \n",
       "4          Low spender                13.0       Regular customer  \n",
       "...                ...                 ...                    ...  \n",
       "32404854   Low spender                20.0       Regular customer  \n",
       "32404855   Low spender                30.0  Non-frequent customer  \n",
       "32404856   Low spender                 6.0      Frequent customer  \n",
       "32404857   Low spender                 6.0      Frequent customer  \n",
       "32404858   Low spender                 6.0      Frequent customer  \n",
       "\n",
       "[32404859 rows x 26 columns]>"
      ]
     },
     "execution_count": 14,
     "metadata": {},
     "output_type": "execute_result"
    }
   ],
   "source": [
    "df_merge.info"
   ]
  },
  {
   "cell_type": "code",
   "execution_count": 32,
   "id": "02934703",
   "metadata": {},
   "outputs": [
    {
     "data": {
      "text/plain": [
       "Unnamed: 0_x                int64\n",
       "product_id                  int64\n",
       "product_name               object\n",
       "aisle_id                    int64\n",
       "department_id               int64\n",
       "prices                    float64\n",
       "Unnamed: 0_y                int64\n",
       "order_id                    int64\n",
       "user_id                     int64\n",
       "eval_set                   object\n",
       "order_number                int64\n",
       "order_dow                   int64\n",
       "order_hour_of_day           int64\n",
       "days_since_prior_order     object\n",
       "add_to_cart_order           int64\n",
       "reordered                   int64\n",
       "price_range_loc            object\n",
       "busiest_day                object\n",
       "busiest_days               object\n",
       "busiest_period_of_day      object\n",
       "max_order                   int64\n",
       "loyalty_flag               object\n",
       "average_price             float64\n",
       "spending_flag              object\n",
       "median_prior_orders       float64\n",
       "order_frequency_flag       object\n",
       "dtype: object"
      ]
     },
     "execution_count": 32,
     "metadata": {},
     "output_type": "execute_result"
    }
   ],
   "source": [
    "df_merge.dtypes"
   ]
  },
  {
   "cell_type": "code",
   "execution_count": 33,
   "id": "c4ead83a",
   "metadata": {},
   "outputs": [],
   "source": [
    "#new merge of the new customers (df) to ords prods merge (df_merge) df\n",
    "\n",
    "\n",
    "df_merged_clean = df_merge.merge(df, on = 'user_id', indicator = True)"
   ]
  },
  {
   "cell_type": "code",
   "execution_count": 34,
   "id": "31bcaabf",
   "metadata": {},
   "outputs": [
    {
     "data": {
      "text/plain": [
       "(32404859, 26)"
      ]
     },
     "execution_count": 34,
     "metadata": {},
     "output_type": "execute_result"
    }
   ],
   "source": [
    "df_merge.shape"
   ]
  },
  {
   "cell_type": "code",
   "execution_count": 35,
   "id": "56b8e91e",
   "metadata": {},
   "outputs": [
    {
     "data": {
      "text/plain": [
       "Unnamed: 0_x                 int64\n",
       "product_id                   int64\n",
       "product_name                object\n",
       "aisle_id                     int64\n",
       "department_id                int64\n",
       "prices                     float64\n",
       "Unnamed: 0_y                 int64\n",
       "order_id                     int64\n",
       "user_id                      int64\n",
       "eval_set                    object\n",
       "order_number                 int64\n",
       "order_dow                    int64\n",
       "order_hour_of_day            int64\n",
       "days_since_prior_order      object\n",
       "add_to_cart_order            int64\n",
       "reordered                    int64\n",
       "price_range_loc             object\n",
       "busiest_day                 object\n",
       "busiest_days                object\n",
       "busiest_period_of_day       object\n",
       "max_order                    int64\n",
       "loyalty_flag                object\n",
       "average_price              float64\n",
       "spending_flag               object\n",
       "median_prior_orders        float64\n",
       "order_frequency_flag        object\n",
       "first_name                  object\n",
       "surname                     object\n",
       "Gender                      object\n",
       "STATE                       object\n",
       "age                          int64\n",
       "date_joined                 object\n",
       "number_of_dependants         int64\n",
       "fam_status                  object\n",
       "spending_power               int64\n",
       "_merge                    category\n",
       "dtype: object"
      ]
     },
     "execution_count": 35,
     "metadata": {},
     "output_type": "execute_result"
    }
   ],
   "source": [
    "df_merged_clean.dtypes"
   ]
  },
  {
   "cell_type": "code",
   "execution_count": 39,
   "id": "3a885a16",
   "metadata": {},
   "outputs": [],
   "source": [
    "# Dropping columns we do not need to analyse\n",
    "# Error message since I already did this and I had to repeat to solve a problem\n",
    "\n",
    "df_merged_clean = df_merged_clean.drop(columns = ['_merge','Unnamed: 0_y'])"
   ]
  },
  {
   "cell_type": "code",
   "execution_count": 40,
   "id": "faa7011d",
   "metadata": {},
   "outputs": [],
   "source": [
    "df_merged_clean.rename(columns = {'First Name' : 'first_name'}, inplace = True)"
   ]
  },
  {
   "cell_type": "code",
   "execution_count": 41,
   "id": "9b2d879e",
   "metadata": {},
   "outputs": [],
   "source": [
    "df_merged_clean.rename(columns = {'Surnam' : 'surname'}, inplace = True)"
   ]
  },
  {
   "cell_type": "code",
   "execution_count": 42,
   "id": "d3b5358f",
   "metadata": {},
   "outputs": [],
   "source": [
    "df_merged_clean.rename(columns = {'Age' : 'age'}, inplace = True)"
   ]
  },
  {
   "cell_type": "code",
   "execution_count": 43,
   "id": "278a0a5b",
   "metadata": {},
   "outputs": [],
   "source": [
    "df_merged_clean.rename(columns = {'n_dependants' : 'number_of_dependants'}, inplace = True)"
   ]
  },
  {
   "cell_type": "code",
   "execution_count": 44,
   "id": "e1e42f5f",
   "metadata": {},
   "outputs": [],
   "source": [
    "df_merged_clean.rename(columns = {'income' : 'spending_power'}, inplace = True)"
   ]
  },
  {
   "cell_type": "code",
   "execution_count": 45,
   "id": "5b123f8a",
   "metadata": {},
   "outputs": [
    {
     "data": {
      "text/plain": [
       "Unnamed: 0_x                int64\n",
       "product_id                  int64\n",
       "product_name               object\n",
       "aisle_id                    int64\n",
       "department_id               int64\n",
       "prices                    float64\n",
       "order_id                    int64\n",
       "user_id                     int64\n",
       "eval_set                   object\n",
       "order_number                int64\n",
       "order_dow                   int64\n",
       "order_hour_of_day           int64\n",
       "days_since_prior_order     object\n",
       "add_to_cart_order           int64\n",
       "reordered                   int64\n",
       "price_range_loc            object\n",
       "busiest_day                object\n",
       "busiest_days               object\n",
       "busiest_period_of_day      object\n",
       "max_order                   int64\n",
       "loyalty_flag               object\n",
       "average_price             float64\n",
       "spending_flag              object\n",
       "median_prior_orders       float64\n",
       "order_frequency_flag       object\n",
       "first_name                 object\n",
       "surname                    object\n",
       "Gender                     object\n",
       "STATE                      object\n",
       "age                         int64\n",
       "date_joined                object\n",
       "number_of_dependants        int64\n",
       "fam_status                 object\n",
       "spending_power              int64\n",
       "dtype: object"
      ]
     },
     "execution_count": 45,
     "metadata": {},
     "output_type": "execute_result"
    }
   ],
   "source": [
    "df_merged_clean.dtypes"
   ]
  },
  {
   "cell_type": "code",
   "execution_count": 61,
   "id": "1d1efa45",
   "metadata": {},
   "outputs": [],
   "source": [
    "# Export to Pickle file"
   ]
  },
  {
   "cell_type": "code",
   "execution_count": 47,
   "id": "33b53296",
   "metadata": {},
   "outputs": [],
   "source": [
    "df_merged_clean.to_pickle(os.path.join(path, '2 Data','Prepared Data', 'ords_prods_customer_merge_4.9_part_one.pkl'))"
   ]
  },
  {
   "cell_type": "code",
   "execution_count": null,
   "id": "597d3c0d",
   "metadata": {},
   "outputs": [],
   "source": []
  }
 ],
 "metadata": {
  "kernelspec": {
   "display_name": "Python 3 (ipykernel)",
   "language": "python",
   "name": "python3"
  },
  "language_info": {
   "codemirror_mode": {
    "name": "ipython",
    "version": 3
   },
   "file_extension": ".py",
   "mimetype": "text/x-python",
   "name": "python",
   "nbconvert_exporter": "python",
   "pygments_lexer": "ipython3",
   "version": "3.11.3"
  }
 },
 "nbformat": 4,
 "nbformat_minor": 5
}
